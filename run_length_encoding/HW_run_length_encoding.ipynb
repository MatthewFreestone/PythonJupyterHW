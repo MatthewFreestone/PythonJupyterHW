{
 "cells": [
  {
   "cell_type": "markdown",
   "metadata": {},
   "source": [
    "# Run-Length Encoding\n",
    "Run-length encoding is a simple method for compressing data that contains long sequences of repeated characters. \n",
    "\n",
    "In this compression algorithm:\n",
    "1. A standalone character will be unchanged. E.g `\"a\"` $\\rightarrow$ `[\"a\"]`. \n",
    "2. A run of a character, `c`, repeated `N` times will be compressed to `[\"c\", \"c\", N]`. E.g. `\"bbbb\"` $\\rightarrow$ `['b', 'b', 4]`. \n",
    "\n",
    "These two rules are all that you need to perform run-length encoding.\n",
    "\n",
    "Let's look at a few examples of run-length-encoding:\n",
    "\n",
    "- `\"abcd\"` $\\rightarrow$ `['a', 'b', 'c', 'd']`\n",
    "- `\"abbbba\"` $\\rightarrow$ `['a', 'b', 'b', 4, 'a']`\n",
    "- `\"aaaabbcccd\"` $\\rightarrow$ `['a', 'a', 4, 'b', 'b', 2, 'c', 'c', 3, 'd']`\n",
    "- `\"\"` $\\rightarrow$ `[]`\n",
    "- `\"1\"` $\\rightarrow$ `[\"1\"]`\n",
    "\n",
    "The decompression algorithm, run-length decoding, simply reverses this process:\n",
    "\n",
    "- `['q', 'a', 'a', 4, 'b', 'b', 2, 'c', 'c', 3, 'd']` $\\rightarrow$ `'qaaaabbcccd'`\n",
    "\n",
    "Here, you will implement a run-length encoding and decoding algorithms. As indicated above, the run-length encoding algorithm should be able to accept a string and return a list with the appropriate string/integer entries, according to the encoding. The decoding algorithm need be able to accept a list with an encoded sequence, and return the decoded string.\n",
    "\n",
    "You should be able to test both of your algorithms by feeding them into one another:\n",
    "```python\n",
    ">>> decoder(encoder(\"Wooooow!!!!! I'm totally getting compressed\"))\n",
    "\"Wooooow!!!!! I'm totally getting compressed\"\n",
    "```"
   ]
  },
  {
   "cell_type": "code",
   "execution_count": 111,
   "metadata": {},
   "outputs": [],
   "source": [
    "# make sure to execute this cell so that your function is defined\n",
    "# you must re-run this cell any time you make a change to this function\n",
    "\n",
    "def run_length_encoder(in_string):\n",
    "    if (in_string == \"\"):\n",
    "        return []\n",
    "    workingString = list(in_string)\n",
    "    x=enumerate(workingString)\n",
    "    encoded = [workingString[0]]\n",
    "    logicGate = False\n",
    "    count = 2\n",
    "    for i,char in x:\n",
    "        if (i == 0):\n",
    "            continue #skip first iteration\n",
    "        elif (char == workingString[i-2] and char == workingString[i-1] and i != 1): #1 is problem bc loops\n",
    "            if (type(encoded[-1]) != int):\n",
    "                encoded.append(count)\n",
    "            continue #dont append if letter is part of series\n",
    "        elif (char == workingString[i-1]): #same as letter before it\n",
    "            count = 2\n",
    "            encoded.append(char)\n",
    "            for ii in range(i+1, len(workingString)):\n",
    "                if (workingString[ii] == workingString[i]): #searched num = original num\n",
    "                    count += 1\n",
    "                else:\n",
    "                    #encoded.append(count)\n",
    "                    logicGate = True\n",
    "                    break\n",
    "            if (count == 2):\n",
    "                encoded.append(2) #bc it wont loop to the normal input of number\n",
    "        else:\n",
    "            encoded.append(char)\n",
    "        \n",
    "    return encoded\n",
    "            \n",
    "    \n",
    "    \n",
    "            \n",
    "            \n",
    "    # write your code here\n",
    "    # be sure to include a `return` statement so that\n",
    "    # your function returns the appropriate object."
   ]
  },
  {
   "cell_type": "code",
   "execution_count": 109,
   "metadata": {
    "scrolled": true
   },
   "outputs": [
    {
     "data": {
      "text/plain": [
       "['a', 'b', 'b', 3, 'a']"
      ]
     },
     "execution_count": 109,
     "metadata": {},
     "output_type": "execute_result"
    }
   ],
   "source": [
    "run_length_encoder('abbba')"
   ]
  },
  {
   "cell_type": "code",
   "execution_count": 112,
   "metadata": {
    "scrolled": false
   },
   "outputs": [
    {
     "name": "stdout",
     "output_type": "stream",
     "text": [
      "\n",
      "============================== ALL TESTS PASSED! ===============================\n",
      "Your submission code: bw42a5d76dd6ae8182436ab2f9860e8c0feb30dc65224efba85b04727c\n",
      "================================================================================\n",
      "\n"
     ]
    }
   ],
   "source": [
    "# Execute this cell to grade your work\n",
    "from bwsi_grader.python.run_length_encoding import encoder_grader\n",
    "encoder_grader(run_length_encoder)"
   ]
  },
  {
   "cell_type": "code",
   "execution_count": 81,
   "metadata": {},
   "outputs": [],
   "source": [
    "# make sure to execute this cell so that your function is defined\n",
    "# you must re-run this cell any time you make a change to this function\n",
    "\n",
    "def run_length_decoder(in_list):\n",
    "    workingList = in_list[:]\n",
    "    for i,character in enumerate(workingList):\n",
    "        if (type(character) == int):\n",
    "            numChar = workingList[i]\n",
    "            insertChar = workingList[i-1]\n",
    "            del workingList[i]\n",
    "            for num in range(i, i+(numChar-2)): #start of the two letters\n",
    "                workingList.insert(num, insertChar)\n",
    "    \n",
    "    return \"\".join(workingList)\n",
    "                \n",
    "            \n",
    "            \n",
    "    # write your code here\n",
    "    # be sure to include a `return` statement so that\n",
    "    # your function returns the appropriate object."
   ]
  },
  {
   "cell_type": "code",
   "execution_count": 82,
   "metadata": {
    "scrolled": true
   },
   "outputs": [
    {
     "name": "stdout",
     "output_type": "stream",
     "text": [
      "\n",
      "============================== ALL TESTS PASSED! ===============================\n",
      "Your submission code: bwdd9e7c7dc76cd758ee821609e7e7ba4b123ff6786f39ab306e3939e7\n",
      "================================================================================\n",
      "\n"
     ]
    }
   ],
   "source": [
    "# Execute this cell to grade your work\n",
    "from bwsi_grader.python.run_length_encoding import decoder_grader\n",
    "decoder_grader(run_length_decoder)"
   ]
  },
  {
   "cell_type": "code",
   "execution_count": 78,
   "metadata": {},
   "outputs": [
    {
     "data": {
      "text/plain": [
       "['aaaabbcccd', ['a', 'a', 'a', 'a', 'b', 'b', 'c', 'c', 'c', 'd']]"
      ]
     },
     "execution_count": 78,
     "metadata": {},
     "output_type": "execute_result"
    }
   ],
   "source": [
    "run_length_decoder(['a', 'a', 4, 'b', 'b', 2, 'c', 'c', 3, 'd'])"
   ]
  },
  {
   "cell_type": "code",
   "execution_count": 42,
   "metadata": {},
   "outputs": [
    {
     "data": {
      "text/plain": [
       "[0, 1, 2, 3]"
      ]
     },
     "execution_count": 42,
     "metadata": {},
     "output_type": "execute_result"
    }
   ],
   "source": [
    "list(range(0,4))"
   ]
  }
 ],
 "metadata": {
  "kernelspec": {
   "display_name": "Python 3",
   "language": "python",
   "name": "python3"
  },
  "language_info": {
   "codemirror_mode": {
    "name": "ipython",
    "version": 3
   },
   "file_extension": ".py",
   "mimetype": "text/x-python",
   "name": "python",
   "nbconvert_exporter": "python",
   "pygments_lexer": "ipython3",
   "version": "3.7.1"
  }
 },
 "nbformat": 4,
 "nbformat_minor": 2
}
